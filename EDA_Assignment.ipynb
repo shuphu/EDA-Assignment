{
  "nbformat": 4,
  "nbformat_minor": 0,
  "metadata": {
    "colab": {
      "private_outputs": true,
      "provenance": []
    },
    "kernelspec": {
      "name": "python3",
      "display_name": "Python 3"
    },
    "language_info": {
      "name": "python"
    }
  },
  "cells": [
    {
      "cell_type": "code",
      "execution_count": null,
      "metadata": {
        "id": "n5oCXczDbyyC"
      },
      "outputs": [],
      "source": [
        "import pandas as pd\n",
        "import numpy as np\n",
        "import matplotlib.pyplot as plt\n",
        "import seaborn as sns\n",
        "import plotly.express as px\n",
        "\n",
        "import warnings\n",
        "warnings.filterwarnings('ignore')"
      ]
    },
    {
      "cell_type": "markdown",
      "source": [
        "EDA 1"
      ],
      "metadata": {
        "id": "AiUCuAshxcEc"
      }
    },
    {
      "cell_type": "code",
      "source": [
        "df = pd.read_csv('BIKE DETAILS.csv')"
      ],
      "metadata": {
        "id": "u6yjLNIOci02"
      },
      "execution_count": null,
      "outputs": []
    },
    {
      "cell_type": "code",
      "source": [
        "df.head()"
      ],
      "metadata": {
        "id": "n2P2LCxYdMk9"
      },
      "execution_count": null,
      "outputs": []
    },
    {
      "cell_type": "code",
      "source": [
        "df.shape"
      ],
      "metadata": {
        "id": "jwmdEoJsc-74"
      },
      "execution_count": null,
      "outputs": []
    },
    {
      "cell_type": "code",
      "source": [
        "df.info()"
      ],
      "metadata": {
        "id": "NbtHiy3XdTN2"
      },
      "execution_count": null,
      "outputs": []
    },
    {
      "cell_type": "code",
      "source": [
        "#Q1.What is the range of selling prices in the dataset?\n",
        "#Ans:\n",
        "max_value = df['selling_price'].max()\n",
        "min_value = df['selling_price'].min()\n",
        "range = max_value - min_value\n",
        "print(range)\n",
        "#output : 755000"
      ],
      "metadata": {
        "id": "xaX3-0JLdZgb"
      },
      "execution_count": null,
      "outputs": []
    },
    {
      "cell_type": "code",
      "source": [
        "#Q2.What is the median selling price for bikes in the dataset?\n",
        "#Ans:\n",
        "df['selling_price'].median()\n",
        "#output : 45000"
      ],
      "metadata": {
        "id": "T2NDLH1IjV26"
      },
      "execution_count": null,
      "outputs": []
    },
    {
      "cell_type": "code",
      "source": [
        "#Q3.What is the most common seller type?\n",
        "seller_type_counts = df['seller_type'].value_counts()\n",
        "print(seller_type_counts)\n",
        "'''output\n",
        "seller_type\n",
        "Individual    1055\n",
        "Dealer           6'''"
      ],
      "metadata": {
        "id": "4nsGxQ40o4_W"
      },
      "execution_count": null,
      "outputs": []
    },
    {
      "cell_type": "code",
      "source": [
        "#Q4.How many bikes have driven more than 50,000 kilometers?\n",
        "#Ans:\n",
        "filtered_df = df[df['km_driven'] > 50000]\n",
        "num_bikes_above_50k = filtered_df.shape[0]\n",
        "print(num_bikes_above_50k)\n",
        "#output: 170"
      ],
      "metadata": {
        "id": "HnsTPwAwqjQu"
      },
      "execution_count": null,
      "outputs": []
    },
    {
      "cell_type": "code",
      "source": [
        "#Q5.What is the average km_driven value for each ownership type?\n",
        "#Ans:\n",
        "average_km_driven_by_owner = df.groupby('owner')['km_driven'].mean()\n",
        "print(average_km_driven_by_owner)\n",
        "'''Output\n",
        "owner\n",
        "1st owner     32816.583333\n",
        "2nd owner     39288.991870\n",
        "3rd owner     33292.181818\n",
        "4th owner    311500.000000'''"
      ],
      "metadata": {
        "id": "ZS6Ymd2HrvtC"
      },
      "execution_count": null,
      "outputs": []
    },
    {
      "cell_type": "code",
      "source": [
        "#Q6.What proportion of bikes are from the year 2015 or older?\n",
        "#Ans:\n",
        "# Assuming your DataFrame is named 'df' and has a 'year' column\n",
        "older_bikes = df[df['year'] <= 2015]\n",
        "proportion = len(older_bikes) / len(df)\n",
        "print(proportion)\n",
        "#output 0.5664467483506126"
      ],
      "metadata": {
        "id": "nCnCLzRBsaYC"
      },
      "execution_count": null,
      "outputs": []
    },
    {
      "cell_type": "code",
      "source": [
        "#Q7.What is the trend of missing values across the dataset?\n",
        "#Ans:\n",
        "missing_values = df.isnull().sum()\n",
        "plt.figure(figsize=(10, 6))\n",
        "missing_values.plot(kind='line')\n",
        "plt.title('Trend of Missing Values Across the Dataset')\n",
        "plt.xlabel('Columns')\n",
        "plt.ylabel('Number of Missing Values')\n",
        "plt.xticks(rotation=45)\n",
        "plt.tight_layout()\n",
        "plt.show()"
      ],
      "metadata": {
        "id": "atOZ5d5ltJxA"
      },
      "execution_count": null,
      "outputs": []
    },
    {
      "cell_type": "code",
      "source": [
        "df"
      ],
      "metadata": {
        "id": "1heehnOrvW0Z"
      },
      "execution_count": null,
      "outputs": []
    },
    {
      "cell_type": "code",
      "source": [
        "#Q8.What is the highest ex_showroom_price recorded, and for which bike?\n",
        "#Ans:\n",
        "max_showroom = df['ex_showroom_price'].max()\n",
        "index_max_price = df['ex_showroom_price'].idxmax()\n",
        "bike_with_max_price = df.loc[index_max_price, 'name']\n",
        "print(max_showroom)\n",
        "print(bike_with_max_price)\n",
        "'''Output\n",
        "1278000.0\n",
        "Harley-Davidson Street Bob'''"
      ],
      "metadata": {
        "id": "HQklc8tTvIAK"
      },
      "execution_count": null,
      "outputs": []
    },
    {
      "cell_type": "code",
      "source": [
        "#Q9.What is the total number of bikes listed by each seller type?\n",
        "#Ans:\n",
        "df['seller_type'].value_counts()\n",
        "'''Output\n",
        "\tcount\n",
        "seller_type\n",
        "Individual\t1055\n",
        "Dealer\t6 '''"
      ],
      "metadata": {
        "id": "kTUUxuv7xJKN"
      },
      "execution_count": null,
      "outputs": []
    },
    {
      "cell_type": "code",
      "source": [
        "#Q10.What is the relationship between selling_price and km_driven for first-owner bikes?\n",
        "#Ans:\n",
        "first_owner_bikes = df[df['owner'] == '1st owner']\n",
        "import seaborn as sns\n",
        "plt.figure(figsize=(8, 6))\n",
        "sns.scatterplot(x=first_owner_bikes['km_driven'], y=first_owner_bikes['selling_price'])\n",
        "plt.title('Relationship between Selling Price and Km Driven for First-Owner Bikes')\n",
        "plt.xlabel('Km Driven')\n",
        "plt.ylabel('Selling Price')\n",
        "plt.show()\n",
        "correlation = first_owner_bikes['selling_price'].corr(first_owner_bikes['km_driven'])\n",
        "print(f\"Correlation coefficient: {correlation}\")\n",
        "#insight; when km increase price of bike decrease"
      ],
      "metadata": {
        "id": "GxwbpjUEy-ph"
      },
      "execution_count": null,
      "outputs": []
    },
    {
      "cell_type": "code",
      "source": [
        "#Q11.Identify and remove outliers in the km_driven column using the IQR method?\n",
        "#Ans:\n",
        "import pandas as pd\n",
        "\n",
        "Q1 = df['km_driven'].quantile(0.25)\n",
        "Q3 = df['km_driven'].quantile(0.75)\n",
        "IQR = Q3 - Q1\n",
        "\n",
        "lower_bound = Q1 - 1.5 * IQR\n",
        "upper_bound = Q3 + 1.5 * IQR\n",
        "\n",
        "outliers = df[(df['km_driven'] < lower_bound) | (df['km_driven'] > upper_bound)]\n",
        "\n",
        "df_no_outliers = df[(df['km_driven'] >= lower_bound) & (df['km_driven'] <= upper_bound)]\n",
        "\n",
        "print(\"Original DataFrame shape:\", df.shape)\n",
        "print(\"Number of outliers in 'km_driven':\", outliers.shape[0])\n",
        "print(\"DataFrame shape after removing outliers:\", df_no_outliers.shape)\n",
        "'''output\n",
        "Original DataFrame shape: (1061, 7)\n",
        "Number of outliers in 'km_driven': 39\n",
        "DataFrame shape after removing outliers: (1022, 7)'''"
      ],
      "metadata": {
        "id": "S5avOW9E1VR3"
      },
      "execution_count": null,
      "outputs": []
    },
    {
      "cell_type": "code",
      "source": [
        "#Q12.Perform a bivariate analysis to visualize the relationship between year and selling_price?\n",
        "#Ans\n",
        "plt.figure(figsize=(10, 6))\n",
        "sns.scatterplot(x='year', y='selling_price', data=df)\n",
        "plt.title('Relationship between Year and Selling Price')\n",
        "plt.xlabel('Year')\n",
        "plt.ylabel('Selling Price')\n",
        "plt.show()\n",
        "#insight: Range between 2015-2020 selling price is high."
      ],
      "metadata": {
        "id": "OmqMlyr86lcS"
      },
      "execution_count": null,
      "outputs": []
    },
    {
      "cell_type": "code",
      "source": [
        "#Q13.What is the average depreciation in selling price based on the bike's age (current year - manufacturing year)?\n",
        "#Ans:\n",
        "df['age'] = 2025 - df['year']\n",
        "avg_depreciation = df.groupby('age')['selling_price'].mean()\n",
        "print(avg_depreciation)"
      ],
      "metadata": {
        "id": "Yi7Ih2EB8EcY"
      },
      "execution_count": null,
      "outputs": []
    },
    {
      "cell_type": "code",
      "source": [
        "#Q14. Which bike names are priced significantly above the average price for their manufacturing year?\n",
        "average_price_by_year = df.groupby('year')['selling_price'].mean()\n",
        "\n",
        "significantly_above_average = df[df.apply(lambda row: row['selling_price'] > average_price_by_year.loc[row['year']] * 1.1, axis=1)]\n",
        "\n",
        "bike_names = significantly_above_average['name'].unique()\n",
        "\n",
        "print(bike_names)"
      ],
      "metadata": {
        "id": "7T_7DMqo_Cx8"
      },
      "execution_count": null,
      "outputs": []
    },
    {
      "cell_type": "code",
      "source": [
        "#Q15. Develop a correlation matrix for numeric columns and visualize it using a heatmap.\n",
        "#Ans:\n",
        "numeric_columns = df.select_dtypes(include=['number']).columns\n",
        "\n",
        "correlation_matrix = df[numeric_columns].corr()\n",
        "\n",
        "plt.figure(figsize=(10, 8))\n",
        "sns.heatmap(correlation_matrix, annot=True, cmap='coolwarm', center=0)\n",
        "plt.title('Correlation Matrix of Numeric Columns')\n",
        "plt.show()"
      ],
      "metadata": {
        "id": "HRM6Pcze_j_7"
      },
      "execution_count": null,
      "outputs": []
    },
    {
      "cell_type": "markdown",
      "source": [
        "EDA 2"
      ],
      "metadata": {
        "id": "93-Jrov-APWT"
      }
    },
    {
      "cell_type": "code",
      "source": [
        "import pandas as pd\n",
        "import numpy as np\n",
        "import matplotlib.pyplot as plt\n",
        "import seaborn as sns\n",
        "import plotly.express as px\n",
        "\n",
        "import warnings\n",
        "warnings.filterwarnings('ignore')"
      ],
      "metadata": {
        "id": "IyGFey9qASxz"
      },
      "execution_count": null,
      "outputs": []
    },
    {
      "cell_type": "code",
      "source": [
        "df1 = pd.read_csv(\"Car Sale.csv\")\n",
        "df1.head()"
      ],
      "metadata": {
        "id": "YolYYvdRAvHi"
      },
      "execution_count": null,
      "outputs": []
    },
    {
      "cell_type": "code",
      "source": [
        "df1.rename(columns={'Price ($)': 'Price'}, inplace=True)"
      ],
      "metadata": {
        "id": "9-3c4UxIv6Qb"
      },
      "execution_count": null,
      "outputs": []
    },
    {
      "cell_type": "code",
      "source": [
        "df1.columns"
      ],
      "metadata": {
        "id": "O-z8uucY9Xa9"
      },
      "execution_count": null,
      "outputs": []
    },
    {
      "cell_type": "code",
      "source": [
        "#Q1.What is the average selling price of cars for each dealer, and how does it compare across different dealers?\n",
        "#Ans:\n",
        "avg_selling_price_by_dealer = df1.groupby('Dealer_Name')['Price'].mean()\n",
        "print(avg_selling_price_by_dealer)\n",
        "\n",
        "plt.figure(figsize=(10, 6))\n",
        "sns.barplot(x=avg_selling_price_by_dealer.index, y=avg_selling_price_by_dealer.values)\n",
        "plt.title('Average Selling Price by Dealer')\n",
        "plt.xlabel('Dealer Name')\n",
        "plt.ylabel('Average Selling Price')\n",
        "plt.xticks(rotation=45, ha='right')\n",
        "plt.tight_layout()\n",
        "plt.show()"
      ],
      "metadata": {
        "id": "G7PirrJZtLGr"
      },
      "execution_count": null,
      "outputs": []
    },
    {
      "cell_type": "code",
      "source": [
        "df1.head()"
      ],
      "metadata": {
        "id": "zMAAH3W34aBL"
      },
      "execution_count": null,
      "outputs": []
    },
    {
      "cell_type": "code",
      "source": [
        "#Q2.Which car brand (Company) has the highest variation in prices, and what does this tell us about the pricing trends?\n",
        "#Ans:\n",
        "import pandas as pd\n",
        "\n",
        "df1_cleaned = df1.dropna(subset=['Price', 'Company'])\n",
        "\n",
        "price_variation_by_company = df1_cleaned.groupby('Company')['Price'].std().sort_values(ascending=False)\n",
        "\n",
        "print(\"Brand with highest variation in price:\")\n",
        "print(price_variation_by_company.head(1))\n",
        "'''Output:\n",
        "Brand with highest variation in price:\n",
        "Company\n",
        "Lincoln    19658.050211\n",
        "Name: Price, dtype: float64'''"
      ],
      "metadata": {
        "id": "RXdrBz4Gc3mF"
      },
      "execution_count": null,
      "outputs": []
    },
    {
      "cell_type": "code",
      "source": [
        "#Q3.What is the distribution of car prices for each transmission type, and how do the interquartile ranges compare?\n",
        "#Ans:\n",
        "df1_cleaned = df1.dropna(subset=['Price', 'Transmission'], inplace = True)\n",
        "\n",
        "plt.figure(figsize=(10, 6))\n",
        "sns.boxplot(x='Transmission', y='Price', data=df1)\n",
        "plt.title('Distribution of Car Prices by Transmission Type')\n",
        "plt.xlabel('Transmission')\n",
        "plt.ylabel('Price')\n",
        "plt.show()\n",
        "\n",
        "for transmission_type in df1['Transmission'].unique():\n",
        "    prices = df1[df1['Transmission'] == transmission_type]['Price']\n",
        "    Q1 = prices.quantile(0.25)\n",
        "    Q3 = prices.quantile(0.75)\n",
        "    IQR = Q3 - Q1\n",
        "    print(f\"IQR for {transmission_type}: {IQR}\")"
      ],
      "metadata": {
        "id": "uwqTJsWzdTKA"
      },
      "execution_count": null,
      "outputs": []
    },
    {
      "cell_type": "code",
      "source": [
        "df1.shape"
      ],
      "metadata": {
        "id": "fznRPN0riwH7"
      },
      "execution_count": null,
      "outputs": []
    },
    {
      "cell_type": "code",
      "source": [
        "df1.info()"
      ],
      "metadata": {
        "id": "dXct7q18i0rT"
      },
      "execution_count": null,
      "outputs": []
    },
    {
      "cell_type": "code",
      "source": [
        "df1.dropna(subset = ['Customer Name'], inplace = True)"
      ],
      "metadata": {
        "id": "vHyRAugli7P8"
      },
      "execution_count": null,
      "outputs": []
    },
    {
      "cell_type": "code",
      "source": [
        "df1.info()"
      ],
      "metadata": {
        "id": "xe2vcbMMjkZO"
      },
      "execution_count": null,
      "outputs": []
    },
    {
      "cell_type": "code",
      "source": [
        "df1.isnull().sum()"
      ],
      "metadata": {
        "id": "jATaX4QCjoQk"
      },
      "execution_count": null,
      "outputs": []
    },
    {
      "cell_type": "code",
      "source": [
        "#Q4.What is the distribution of car prices across different regions?\n",
        "#Ans:\n",
        "plt.figure(figsize=(12,6))\n",
        "sns.boxplot(x=\"Dealer_Region\", y=\"Price\", data = df1)\n",
        "plt.title('distribution of car prices across different regions')\n",
        "plt.xlabel('Dealer_Region')\n",
        "plt.ylabel('Price')\n",
        "plt.xticks(rotation = 45)\n",
        "plt.tight_layout()\n",
        "plt.show()\n",
        "\n",
        "region_wise = df1.groupby('Dealer_Region')['Price'].describe()\n",
        "print(region_wise)"
      ],
      "metadata": {
        "id": "8vzrEkaHihPs"
      },
      "execution_count": null,
      "outputs": []
    },
    {
      "cell_type": "code",
      "source": [
        "df1.columns"
      ],
      "metadata": {
        "id": "qmLkNm2znffi"
      },
      "execution_count": null,
      "outputs": []
    },
    {
      "cell_type": "code",
      "source": [
        "df1.head()"
      ],
      "metadata": {
        "id": "hEPek9Q8nu-z"
      },
      "execution_count": null,
      "outputs": []
    },
    {
      "cell_type": "code",
      "source": [
        "df1['Body Style'].value_counts()"
      ],
      "metadata": {
        "id": "lzfACBu5q-Fr"
      },
      "execution_count": null,
      "outputs": []
    },
    {
      "cell_type": "code",
      "source": [
        "#Q5.What is the distribution of cars based on body styles?\n",
        "#Ans:\n",
        "import matplotlib.pyplot as plt\n",
        "import seaborn as sns\n",
        "plt.figure(figsize = (10,6))\n",
        "sns.countplot(x = 'Body Style', data = df1)\n",
        "plt.title('Distribution of cars by body style')\n",
        "plt.xlabel('Body Style')\n",
        "plt.ylabel('Count')\n",
        "plt.xticks(rotation=45)\n",
        "plt.tight_layout()\n",
        "plt.show()"
      ],
      "metadata": {
        "id": "GXJHUAgLop5y"
      },
      "execution_count": null,
      "outputs": []
    },
    {
      "cell_type": "code",
      "source": [
        "df1.columns"
      ],
      "metadata": {
        "id": "aCDLjJeosqaL"
      },
      "execution_count": null,
      "outputs": []
    },
    {
      "cell_type": "code",
      "source": [
        "#Q6. How does the average selling price of cars vary by customer gender and annual income?\n",
        "#Ans:\n",
        "Average_selling_price_coustomer_gender_income = df1.groupby(['Gender', 'Annual Income'])['Price'].mean().reset_index()\n",
        "\n",
        "plt.figure(figsize=(12,6))\n",
        "sns.scatterplot(x='Price', y='Annual Income', hue ='Gender',data=Average_selling_price_coustomer_gender_income)\n",
        "plt.title('Average Selling Price by Gender and Annual Income')\n",
        "plt.xlabel('Annual Income ($)')\n",
        "plt.ylabel('Average Selling Price')\n",
        "plt.xticks(rotation=45, ha='right')\n",
        "plt.tight_layout()\n",
        "plt.show()"
      ],
      "metadata": {
        "id": "Q-k7RtwfrXXE"
      },
      "execution_count": null,
      "outputs": []
    },
    {
      "cell_type": "code",
      "source": [
        "#Q7.What is the distribution of car prices by region, and how does the number of cars sold vary by region?\n",
        "#Ans:\n",
        "plt.figure(figsize = (12,6))\n",
        "sns.boxplot(x = 'Dealer_Region', y = 'Price', data=df1)\n",
        "plt.title('Distribution of car prices by region')\n",
        "plt.xlabel('Dealer_Region')\n",
        "plt.ylabel('Price')\n",
        "plt.xticks(rotation = 45)\n",
        "plt.tight_layout()\n",
        "plt.show()\n"
      ],
      "metadata": {
        "id": "hJvGm5gZu38d"
      },
      "execution_count": null,
      "outputs": []
    },
    {
      "cell_type": "code",
      "source": [
        "df1.columns"
      ],
      "metadata": {
        "id": "shEXEWPZzYkK"
      },
      "execution_count": null,
      "outputs": []
    },
    {
      "cell_type": "code",
      "source": [
        "'''region_price_stats = df1.groupby('Dealer_Region')['Price'].mean()\n",
        "region_sales_count = df['Dealer_Region'].value_counts()\n",
        "plt.figure(figsize=(12,6))\n",
        "sns.barplot(x=region_sales_count.index, y=region_sales_count.values)\n",
        "plt.title('Number of Cars Sold by Region')\n",
        "plt.xlabel('Region')\n",
        "plt.ylabel('Number of Cars Sold')\n",
        "plt.xticks(rotation=45, ha='right')\n",
        "plt.tight_layout()\n",
        "plt.show()'''\n",
        "\n",
        "# Total number of cars sold in each region\n",
        "#rint(region_sales_counts)"
      ],
      "metadata": {
        "collapsed": true,
        "id": "5MbgaOfUvFVK"
      },
      "execution_count": null,
      "outputs": []
    },
    {
      "cell_type": "code",
      "source": [
        "df1.columns"
      ],
      "metadata": {
        "id": "cdLNHWbQ17Pj"
      },
      "execution_count": null,
      "outputs": []
    },
    {
      "cell_type": "code",
      "source": [
        "#Q8.How does the average car price differ between cars with different engine sizes?\n",
        "#Ans:\n",
        "avg_price_by_engine_size = df1.groupby('Engine')['Price'].mean().reset_index()\n",
        "\n",
        "plt.figure(figsize=(10, 6))\n",
        "sns.barplot(x='Engine', y='Price', data=avg_price_by_engine_size)\n",
        "plt.title('Average Car Price by Engine Size')\n",
        "plt.xlabel('Engine Size')\n",
        "plt.ylabel('Average Price')\n",
        "plt.xticks(rotation=45)"
      ],
      "metadata": {
        "id": "pgaHWYnWxqHz"
      },
      "execution_count": null,
      "outputs": []
    },
    {
      "cell_type": "code",
      "source": [
        "#Q9.How do car prices vary based on the customer’s annual income bracket?\n",
        "#Ans:\n",
        "# Define income brackets\n",
        "income_brackets = pd.cut(df1['Annual Income'], bins=[0, 50000, 100000, 150000, 200000, float('inf')],\n",
        "                         labels=['0-50k', '50k-100k', '100k-150k', '150k-200k', '200k+'])\n",
        "\n",
        "# Add the income brackets to the DataFrame\n",
        "df1['Income Bracket'] = income_brackets\n",
        "\n",
        "# Group the data and calculate the average selling price\n",
        "avg_price_by_income_bracket = df1.groupby('Income Bracket')['Price'].mean().reset_index()\n",
        "\n",
        "# Visualize the results using a bar plot\n",
        "plt.figure(figsize=(10, 6))\n",
        "sns.barplot(x='Income Bracket', y='Price', data=avg_price_by_income_bracket)\n",
        "plt.title('Average Car Price by Annual Income Bracket')\n",
        "plt.xlabel('Annual Income Bracket')\n",
        "plt.ylabel('Average Price')\n",
        "plt.xticks(rotation=45, ha='right')\n",
        "plt.tight_layout()\n",
        "plt.show()\n",
        "\n",
        "# Alternatively, visualize the results using a box plot\n",
        "plt.figure(figsize=(10, 6))\n",
        "sns.boxplot(x='Income Bracket', y='Price', data=df1)\n",
        "plt.title('Car Price Distribution by Annual Income Bracket')\n",
        "plt.xlabel('Annual Income Bracket')\n",
        "plt.ylabel('Price')\n",
        "plt.xticks(rotation=45, ha='right')\n",
        "plt.tight_layout()\n",
        "plt.show()"
      ],
      "metadata": {
        "id": "SabmVzli2N7L"
      },
      "execution_count": null,
      "outputs": []
    },
    {
      "cell_type": "code",
      "source": [
        "#Q10. What are the top 5 car models with the highest number of sales, and how does their price distribution look?\n",
        "#Ans:\n",
        "# Get the top 5 car models\n",
        "top_5_models = df1['Model'].value_counts().head(5).index\n",
        "\n",
        "# Filter the DataFrame to include only the top 5 models\n",
        "filtered_df = df1[df1['Model'].isin(top_5_models)]\n",
        "\n",
        "plt.figure(figsize=(12, 6))\n",
        "# Use the filtered DataFrame in the boxplot\n",
        "sns.barplot(x='Model', y='Price', data=filtered_df)\n",
        "plt.title('Price Distribution of Top 5 Car Models')\n",
        "plt.xlabel('Car Model')\n",
        "plt.ylabel('Price')\n",
        "plt.xticks(rotation=45, ha='right')\n",
        "plt.tight_layout()\n",
        "plt.show()"
      ],
      "metadata": {
        "id": "rW-qq5eg-YaL"
      },
      "execution_count": null,
      "outputs": []
    },
    {
      "cell_type": "code",
      "source": [
        "#Q11.How does car price vary with engine size across different car colors, and which colors have the highest price variation?\n",
        "#Ans;\n",
        "\n",
        "avg_price_by_engine_color = df1.groupby(['Engine', 'Color'])['Price'].mean().reset_index()\n",
        "\n",
        "# Print the result\n",
        "print(avg_price_by_engine_color)\n",
        "# Create a bar plot to visualize the relationship\n",
        "plt.figure(figsize=(12, 6))\n",
        "sns.barplot(x='Engine', y='Price', hue='Color', data=avg_price_by_engine_color)\n",
        "plt.title('Car Price Variation with Engine Size and Color')\n",
        "plt.xlabel('Engine Size')\n",
        "plt.ylabel('Average Price')\n",
        "plt.xticks(rotation=45, ha='right')\n",
        "plt.tight_layout()\n",
        "plt.show()\n",
        "#insight : Black color has heighst price variation."
      ],
      "metadata": {
        "id": "XmfDPZl9BSsC"
      },
      "execution_count": null,
      "outputs": []
    },
    {
      "cell_type": "code",
      "source": [
        "df1.columns"
      ],
      "metadata": {
        "id": "Yh7fncJlEVdo"
      },
      "execution_count": null,
      "outputs": []
    },
    {
      "cell_type": "code",
      "source": [
        "#Q12.Is there any seasonal trend in car sales based on the date of sale?\n",
        "#Ans:\n",
        "df1['Date of Sale'] = pd.to_datetime(df1['Date'])\n",
        "df1['Month'] = df1['Date of Sale'].dt.month\n",
        "monthly_sales = df1.groupby('Month')['Price'].sum()\n",
        "\n",
        "plt.figure(figsize=(10, 6))\n",
        "plt.plot(monthly_sales.index, monthly_sales.values)\n",
        "plt.title('Monthly Car Sales Trend')\n",
        "plt.xlabel('Month')\n",
        "plt.ylabel('Total Sales')\n",
        "\n",
        "plt.show()\n",
        "#insight: Car sales max decrease in month 8-10 again increase high."
      ],
      "metadata": {
        "id": "vscwLpISECNr"
      },
      "execution_count": null,
      "outputs": []
    },
    {
      "cell_type": "code",
      "source": [
        "#Q13.How does the car price distribution change when considering different combinations of body style and transmission type?\n",
        "#Ans:\n",
        "'''grouped_data = df1.groupby(['Body Style', 'Transmission'])['Price'].mean().reset_index()\n",
        "\n",
        "print(grouped_data)\n",
        "\n",
        "plt.figure(figsize=(12, 6))\n",
        "sns.barplot(x='Body Style', y='Price', hue='Transmission', data=grouped_data)\n",
        "plt.title('Car Price Distribution by Body Style and Transmission Type')\n",
        "plt.xlabel('Body Style')\n",
        "plt.ylabel('Average Price')\n",
        "plt.xticks(rotation=45, ha='right')\n",
        "plt.tight_layout()\n",
        "plt.show()\n",
        "\n",
        "\n",
        "plt.figure(figsize=(12, 6))\n",
        "sns.boxplot(x='Body Style', y='Price', hue='Transmission', data=df1)\n",
        "plt.title('Car Price Distribution by Body Style and Transmission Type')\n",
        "plt.xlabel('Body Style')\n",
        "plt.ylabel('Price')\n",
        "plt.xticks(rotation=45, ha='right')\n",
        "plt.tight_layout()\n",
        "plt.show()'''"
      ],
      "metadata": {
        "id": "_YktIkKsF_0q"
      },
      "execution_count": null,
      "outputs": []
    },
    {
      "cell_type": "code",
      "source": [
        "df1.columns"
      ],
      "metadata": {
        "id": "sDnFcyuTvsQ5"
      },
      "execution_count": null,
      "outputs": []
    },
    {
      "cell_type": "code",
      "source": [
        "#Q14. What is the correlation between car price, engine size, and annual income of customers, and how do these features interact?\n",
        "#Ans:\n",
        "\n",
        "columns = ['Price',  'Annual Income']\n",
        "\n",
        "correlation_matrix = df1[columns].corr()\n",
        "\n",
        "print(correlation_matrix)\n",
        "\n",
        "plt.figure(figsize=(8, 6))\n",
        "sns.heatmap(correlation_matrix, annot=True, cmap='coolwarm', center=0)\n",
        "plt.title('Correlation Matrix')\n",
        "plt.show()\n",
        "#Engine type is a object we cannot create correalation."
      ],
      "metadata": {
        "id": "hBICXq4FvI1J"
      },
      "execution_count": null,
      "outputs": []
    },
    {
      "cell_type": "code",
      "source": [
        "df1.columns"
      ],
      "metadata": {
        "id": "DVzbbum4ygIA"
      },
      "execution_count": null,
      "outputs": []
    },
    {
      "cell_type": "code",
      "source": [
        "#Q15.How does the average car price vary across different car models and engine types?\n",
        "#Ans:\n",
        "car_price_vary = df1.groupby(['Model', 'Engine'])['Price'].mean().reset_index()\n",
        "\n",
        "plt.figure(figsize=(15, 8))\n",
        "\n",
        "sns.scatterplot(x='Model', y='Price', hue='Engine', data=car_price_vary)\n",
        "plt.title('Average Car Price by Model and Engine Type')\n",
        "plt.xlabel('Engine Type')\n",
        "plt.ylabel('Average Price')\n",
        "plt.xticks(rotation=45, ha='right')\n",
        "plt.tight_layout()\n",
        "plt.show()"
      ],
      "metadata": {
        "collapsed": true,
        "id": "0I11lPe2zKba"
      },
      "execution_count": null,
      "outputs": []
    },
    {
      "cell_type": "markdown",
      "source": [
        "EDA 3"
      ],
      "metadata": {
        "id": "YWMO_cIX2EMx"
      }
    },
    {
      "cell_type": "code",
      "source": [
        "#Amazon Sales  EDA\n",
        "import pandas as pd\n",
        "import numpy as np\n",
        "import matplotlib.pyplot as plt\n",
        "import seaborn as sns\n",
        "import plotly.express as px\n",
        "\n",
        "import warnings\n",
        "warnings.filterwarnings('ignore')"
      ],
      "metadata": {
        "id": "1jNmhRip2Ig_"
      },
      "execution_count": null,
      "outputs": []
    },
    {
      "cell_type": "code",
      "source": [
        "df3 = pd.read_csv(\"amazon.csv\")\n",
        "df3"
      ],
      "metadata": {
        "id": "99IVJw-O2yu3"
      },
      "execution_count": null,
      "outputs": []
    },
    {
      "cell_type": "code",
      "source": [
        "df3.head()"
      ],
      "metadata": {
        "id": "llwD8Z-m2_p2"
      },
      "execution_count": null,
      "outputs": []
    },
    {
      "cell_type": "code",
      "source": [
        "df3.drop('img_link',axis = 1, inplace = True)\n",
        "df3.drop('product_link',axis = 1, inplace = True)"
      ],
      "metadata": {
        "id": "4y1tPjYw3wbv"
      },
      "execution_count": null,
      "outputs": []
    },
    {
      "cell_type": "code",
      "source": [
        "df3.head()"
      ],
      "metadata": {
        "id": "45UkM4Fm4eIQ"
      },
      "execution_count": null,
      "outputs": []
    },
    {
      "cell_type": "code",
      "source": [
        "df3.columns"
      ],
      "metadata": {
        "id": "1tMTolAQ4ueH"
      },
      "execution_count": null,
      "outputs": []
    },
    {
      "cell_type": "code",
      "source": [
        "df3.drop('review_id', inplace = True, axis = 1)\n",
        "df3.drop('user_id', inplace = True, axis = 1)"
      ],
      "metadata": {
        "id": "jtxk4k8x4y-A"
      },
      "execution_count": null,
      "outputs": []
    },
    {
      "cell_type": "code",
      "source": [
        "df3"
      ],
      "metadata": {
        "id": "b65aJgua5NgJ"
      },
      "execution_count": null,
      "outputs": []
    },
    {
      "cell_type": "code",
      "source": [
        "df3.info()"
      ],
      "metadata": {
        "id": "XedPUwPS5XTY"
      },
      "execution_count": null,
      "outputs": []
    },
    {
      "cell_type": "code",
      "source": [
        "df3.isnull().sum()"
      ],
      "metadata": {
        "id": "Vp10XPEk5fmh"
      },
      "execution_count": null,
      "outputs": []
    },
    {
      "cell_type": "code",
      "source": [
        "df3.dropna(subset = ['rating_count'],inplace=True)"
      ],
      "metadata": {
        "id": "Q-OktQjA5yFp"
      },
      "execution_count": null,
      "outputs": []
    },
    {
      "cell_type": "code",
      "source": [
        "duplicate = df3[df3.duplicated]\n",
        "duplicate"
      ],
      "metadata": {
        "id": "7hbA-ZgG6CXu"
      },
      "execution_count": null,
      "outputs": []
    },
    {
      "cell_type": "code",
      "source": [
        "df3.drop_duplicates(inplace=True)"
      ],
      "metadata": {
        "id": "6c0_0gNe602C"
      },
      "execution_count": null,
      "outputs": []
    },
    {
      "cell_type": "code",
      "source": [
        "df3.head()"
      ],
      "metadata": {
        "id": "mxoPlbfw7C-x"
      },
      "execution_count": null,
      "outputs": []
    },
    {
      "cell_type": "code",
      "source": [
        "df3.info()"
      ],
      "metadata": {
        "id": "DOCSNZF28rq3"
      },
      "execution_count": null,
      "outputs": []
    },
    {
      "cell_type": "code",
      "source": [
        "df3['rating'] = pd.to_numeric(df3['rating'],errors='coerce')"
      ],
      "metadata": {
        "id": "WBMySxHU9rEw"
      },
      "execution_count": null,
      "outputs": []
    },
    {
      "cell_type": "code",
      "source": [
        "df3.info()"
      ],
      "metadata": {
        "id": "hQiZxM9N_lqB"
      },
      "execution_count": null,
      "outputs": []
    },
    {
      "cell_type": "code",
      "source": [
        "df3['discounted_price'] = df3['discounted_price'].str.replace('₹','')\n",
        "\n",
        "df3['discounted_price'] = df3['discounted_price'].str.replace(',', '').astype(float)"
      ],
      "metadata": {
        "id": "DPC5B3BC_0L_"
      },
      "execution_count": null,
      "outputs": []
    },
    {
      "cell_type": "code",
      "source": [
        "df3['actual_price'] = df3['actual_price'].str.replace('₹','')\n",
        "\n",
        "df3['actual_price'] = df3['actual_price'].str.replace(',', '').astype(float)"
      ],
      "metadata": {
        "id": "46HRPQVvA8SP"
      },
      "execution_count": null,
      "outputs": []
    },
    {
      "cell_type": "code",
      "source": [
        "df3['discount_percentage'] = df3['discount_percentage'].str.replace('%', '')\n",
        "df3['discount_percentage'] = df3['discount_percentage'].astype(float)\n",
        "df3['discount_percentage'] = df3['discount_percentage'] / 100"
      ],
      "metadata": {
        "id": "Y2u9KX-eCXOI"
      },
      "execution_count": null,
      "outputs": []
    },
    {
      "cell_type": "code",
      "source": [
        "df3.info()"
      ],
      "metadata": {
        "id": "er0ppacyCewG"
      },
      "execution_count": null,
      "outputs": []
    },
    {
      "cell_type": "code",
      "source": [
        "#Q1.What is the average rating for each product category?\n",
        "#Ans:\n",
        "average_rating_each_product = df3.groupby('category')[ 'rating'].mean()\n",
        "average_rating_each_product"
      ],
      "metadata": {
        "id": "JDq9QyowCmdt"
      },
      "execution_count": null,
      "outputs": []
    },
    {
      "cell_type": "code",
      "source": [
        "df3['rating_count'] = df3['rating_count'].str.replace(',', '').astype(float)"
      ],
      "metadata": {
        "collapsed": true,
        "id": "3FPSweWzKVvD"
      },
      "execution_count": null,
      "outputs": []
    },
    {
      "cell_type": "code",
      "source": [
        "#Q2.What are the top rating_count products by category?\n",
        "#Ans:\n",
        "top_rating_count_products = df3.groupby('category')['rating_count'].sum().sort_values(ascending = False).head(10)\n",
        "print(top_rating_count_products)"
      ],
      "metadata": {
        "id": "3nEW4ctSEbZm"
      },
      "execution_count": null,
      "outputs": []
    },
    {
      "cell_type": "code",
      "source": [
        "#Q3.What is the distribution of discounted prices vs. actual prices?\n",
        "#Ans:\n",
        "plt.figure(figsize = (10,6))\n",
        "sns.scatterplot(x = 'actual_price', y= 'discounted_price',data = df3)\n",
        "plt.title(\"Distribution of discounted prices vs. actual prices\")\n",
        "plt.xlabel('Actual_price')\n",
        "plt.ylabel('Discounted_prices')\n",
        "plt.show()"
      ],
      "metadata": {
        "id": "vGjbivREQIff"
      },
      "execution_count": null,
      "outputs": []
    },
    {
      "cell_type": "code",
      "source": [
        "# Q4. How does the average discount percentage vary across categories?\n",
        "# Ans:\n",
        "import matplotlib.pyplot as plt\n",
        "import seaborn as sns\n",
        "\n",
        "average_discount_by_category = df3.groupby('category')['discount_percentage'].mean().sort_values(ascending=False)\n",
        "\n",
        "plt.figure(figsize=(12, 6))\n",
        "sns.barplot(x=average_discount_by_category.index, y=average_discount_by_category.values)\n",
        "plt.title('Average Discount Percentage by Category')\n",
        "plt.xlabel('Category')\n",
        "plt.ylabel('Average Discount Percentage')\n",
        "plt.xticks(rotation=90, ha='right')  # Rotate x-axis labels for better readability\n",
        "plt.tight_layout()\n",
        "plt.show()\n",
        "\n",
        "print(average_discount_by_category)"
      ],
      "metadata": {
        "id": "YBzobca6RvFm"
      },
      "execution_count": null,
      "outputs": []
    },
    {
      "cell_type": "code",
      "source": [
        "#Q5.What are the most popular product names?\n",
        "#Ans:\n",
        "from collections import Counter\n",
        "\n",
        "product_counts = Counter(df3['product_name'])\n",
        "most_common_products = product_counts.most_common(10)\n",
        "for product_name, count in most_common_products:\n",
        "    print(f\"{product_name}: {count}\")"
      ],
      "metadata": {
        "id": "K8Usv977TSFG"
      },
      "execution_count": null,
      "outputs": []
    },
    {
      "cell_type": "code",
      "source": [
        "#Q6.What are the most popular product keywords?\n",
        "#Ans:\n",
        "import pandas as pd\n",
        "from collections import Counter\n",
        "df3['keywords'] = df3['product_name'].str.lower().str.split()\n",
        "all_keywords = [keyword for sublist in df3['keywords'] for keyword in sublist]\n",
        "keyword_counts = Counter(all_keywords)\n",
        "\n",
        "most_common_keywords = keyword_counts.most_common(20)\n",
        "for keyword, count in most_common_keywords:\n",
        "    print(f\"{keyword}: {count}\")\n",
        "\n",
        "import matplotlib.pyplot as plt\n",
        "import seaborn as sns\n",
        "\n",
        "keyword_df = pd.DataFrame(most_common_keywords, columns=['Keyword', 'Frequency'])\n",
        "\n",
        "plt.figure(figsize=(12, 6))\n",
        "sns.barplot(x='Keyword', y='Frequency', data=keyword_df)\n",
        "plt.title('Most Popular Product Keywords')\n",
        "plt.xlabel('Keyword')\n",
        "plt.ylabel('Frequency')\n",
        "plt.xticks(rotation=45, ha='right')\n",
        "plt.tight_layout()\n",
        "plt.show()"
      ],
      "metadata": {
        "id": "ZAVJ6APpUnRX"
      },
      "execution_count": null,
      "outputs": []
    },
    {
      "cell_type": "code",
      "source": [
        "df3.head()"
      ],
      "metadata": {
        "id": "Y_5PK_ouTTdd"
      },
      "execution_count": null,
      "outputs": []
    },
    {
      "cell_type": "code",
      "source": [
        "#Q7.What are the most popular product reviews?\n",
        "#Ans:\n",
        "from collections import Counter\n",
        "\n",
        "# Assuming your DataFrame is named 'df3' and has a 'review_title' column\n",
        "review_counts = Counter(df3['review_title'])\n",
        "most_common_reviews = review_counts.most_common(10)  # Get the top 10 most frequent reviews\n",
        "\n",
        "for review_title, count in most_common_reviews:\n",
        "    print(f\"{review_title}: {count}\")"
      ],
      "metadata": {
        "id": "If6QQmd3TCqX"
      },
      "execution_count": null,
      "outputs": []
    },
    {
      "cell_type": "code",
      "source": [
        "df3.info()"
      ],
      "metadata": {
        "id": "3scurZh6W2gH"
      },
      "execution_count": null,
      "outputs": []
    },
    {
      "cell_type": "code",
      "source": [
        "#Q8.What is the correlation between discounted_price and rating?\n",
        "#Ans:\n",
        "data_for_heatmap = df3[['discounted_price', 'rating']]\n",
        "\n",
        "correlation_matrix = data_for_heatmap.corr()\n",
        "\n",
        "\n",
        "plt.figure(figsize=(12, 8))\n",
        "sns.heatmap(correlation_matrix, annot=True, cmap='coolwarm', center=0)\n",
        "plt.title('Correlation between discounted price and rating')\n",
        "plt.xlabel('Discounted Price')\n",
        "plt.ylabel('Rating')\n",
        "plt.show()"
      ],
      "metadata": {
        "id": "n0kJM-NBVOGp"
      },
      "execution_count": null,
      "outputs": []
    },
    {
      "cell_type": "code",
      "source": [
        "#Q9.' What are the Top 5 categories based on the highest ratings?\n",
        "#Ans:\n",
        "average_rating_by_category = df3.groupby('category')['rating'].mean().sort_values(ascending=False).head(5).reset_index()\n",
        "average_rating_by_category"
      ],
      "metadata": {
        "id": "N6XIJWpzX8ef"
      },
      "execution_count": null,
      "outputs": []
    },
    {
      "cell_type": "code",
      "source": [
        "#Q10.Identify any potential areas for improvement or optimization based on the data analysis?\n",
        "#Ans:\n",
        "average_rating_by_category = df3.groupby('category')['rating'].mean().sort_values(ascending=False).head(5).reset_index()\n",
        "average_rating_by_category\n",
        "''' According to data this is top 5 category where is rating high so we should maintain proper stock because this valualble product for coustomer.\n",
        "0 Computers&Accessories|Tablets\t4.6\n",
        "1\tComputers&Accessories|NetworkingDevices|Networ...\t4.5\n",
        "2\tElectronics|Cameras&Photography|Accessories|Film\t4.5\n",
        "3\tComputers&Accessories|Components|Memory\t4.5\n",
        "4\tElectronics|HomeAudio|MediaStreamingDevices|St...\t4.0'''\n"
      ],
      "metadata": {
        "id": "tmigBzBXd5Bz"
      },
      "execution_count": null,
      "outputs": []
    },
    {
      "cell_type": "markdown",
      "source": [
        "EDA 4."
      ],
      "metadata": {
        "id": "8wH5Au66gEmh"
      }
    },
    {
      "cell_type": "code",
      "source": [
        "df4 = pd.read_csv('spotify.csv')\n",
        "df4"
      ],
      "metadata": {
        "id": "1TIXgaBcgH8S"
      },
      "execution_count": null,
      "outputs": []
    },
    {
      "cell_type": "code",
      "source": [
        "df4.info()"
      ],
      "metadata": {
        "id": "6YM7FpBUgvFO"
      },
      "execution_count": null,
      "outputs": []
    },
    {
      "cell_type": "code",
      "source": [
        "df4.duplicated().sum()"
      ],
      "metadata": {
        "id": "6kWqd-RJtEPH"
      },
      "execution_count": null,
      "outputs": []
    },
    {
      "cell_type": "code",
      "source": [
        "#Q1. Read the dataframe, check null value if present then do the needful, check duplicate row , if present then do the needful?\n",
        "#Ans:\n",
        "df4.isnull().sum()\n",
        "# No null value.\n",
        "duplicate = df4.duplicated()\n",
        "df4.drop_duplicates(inplace=True)"
      ],
      "metadata": {
        "id": "PvsxNqgggZRr"
      },
      "execution_count": null,
      "outputs": []
    },
    {
      "cell_type": "code",
      "source": [
        "#Q2.What is the distribution of popularity among the tracks in the dataset? Visualize it using a histogram?\n",
        "#Ans:\n",
        "plt.figure(figsize = (10,6))\n",
        "sns.histplot(df4['Popularity'],  bins = 20, kde = True)\n",
        "plt.title(\"Distribution of Track Popularity\")\n",
        "plt.xlabel('Popularity')\n",
        "plt.ylabel('Frequency')\n",
        "plt.show()"
      ],
      "metadata": {
        "id": "nXHU-YOYhyLr"
      },
      "execution_count": null,
      "outputs": []
    },
    {
      "cell_type": "code",
      "source": [
        "#Q3. Is there any relationship between the popularity and the duration of tracks? Explore this using a scatter plot?\n",
        "#Ans:\n",
        "plt.figure(figsize = (10,6))\n",
        "sns.scatterplot(x= 'Duration (ms)', y ='Popularity', data = df4)\n",
        "plt.title('Relationship between Track Duration and Popularity')\n",
        "plt.xlabel('Duration (ms)')\n",
        "plt.ylabel('Popularity')\n",
        "plt.show()"
      ],
      "metadata": {
        "id": "nlsa8-MVjlBC"
      },
      "execution_count": null,
      "outputs": []
    },
    {
      "cell_type": "code",
      "source": [
        "#Q4.Which artist has the highest number of tracks in the dataset? Display the count of tracks for each artist using a countplot?\n",
        "#Ans:\n",
        "artist_counts = df4['Artist'].value_counts()\n",
        "top_artist = artist_counts.index[0]\n",
        "print(f\"Artist with the highest number of tracks: {top_artist}\")\n",
        "\n",
        "\n",
        "plt.figure(figsize=(12, 8))  # Adjust figure size if needed\n",
        "sns.countplot(x='Artist', data=df4, order=artist_counts.index)\n",
        "plt.title('Number of Tracks per Artist')\n",
        "plt.xlabel('Artist')\n",
        "plt.ylabel('Track Count')\n",
        "plt.xticks(rotation=90, ha='right')\n",
        "plt.tight_layout()\n",
        "plt.show()"
      ],
      "metadata": {
        "id": "nmBvcDLdkl4D"
      },
      "execution_count": null,
      "outputs": []
    },
    {
      "cell_type": "code",
      "source": [
        "df4.info()"
      ],
      "metadata": {
        "id": "d2Rx6MlDsM8f"
      },
      "execution_count": null,
      "outputs": []
    },
    {
      "cell_type": "code",
      "source": [
        "#Q5.What are the top 5 least popular tracks in the dataset? Provide the artist name and track name for each?\n",
        "#Ans:\n",
        "top_5_Populars_Track = df4[['Artist', 'Track Name', 'Popularity']].sort_values(by=['Popularity'], ascending=True).head(5).reset_index()\n",
        "print('top_5_Populars_Track')\n",
        "for index, row in top_5_Populars_Track.iterrows():\n",
        "    print(f\"Artist: {row['Artist']}, Track: {row['Track Name']},and Popularity: {row['Popularity']}\")"
      ],
      "metadata": {
        "id": "PYigjEJRmuiK"
      },
      "execution_count": null,
      "outputs": []
    },
    {
      "cell_type": "code",
      "source": [
        "#Q6.Among the top 5 most popular artists, which artist has the highest popularity on average? Calculate and display the average popularity for each artist?\n",
        "#Ans:\n",
        "top_5_artists = df4.groupby('Artist')['Popularity'].sum().sort_values(ascending=False).head(5).index\n",
        "\n",
        "filtered_df = df4[df4['Artist'].isin(top_5_artists)]\n",
        "\n",
        "avg_popularity_by_artist = filtered_df.groupby('Artist')['Popularity'].mean().sort_values(ascending=False)\n",
        "\n",
        "print(\"Average popularity for the top 5 artists:\")\n",
        "print(avg_popularity_by_artist)\n",
        "\n",
        "artist_with_highest_avg_popularity = avg_popularity_by_artist.index[0]\n",
        "print(f\"\\nArtist with the highest average popularity: {artist_with_highest_avg_popularity}\")\n",
        "'''Output\n",
        "Average popularity for the top 5 artists:\n",
        "Artist\n",
        "¥$           85.100000\n",
        "21 Savage    83.800000\n",
        "Eminem       83.636364\n",
        "Drake        82.882353\n",
        "Flo Rida     78.00000'''"
      ],
      "metadata": {
        "id": "mjECWlmdszZ_"
      },
      "execution_count": null,
      "outputs": []
    },
    {
      "cell_type": "code",
      "source": [
        "#Q7.For the top 5 most popular artists, what are their most popular tracks? List the track name for each artist?\n",
        "#Ans:\n",
        "\n",
        "top_5_artists = df4.groupby('Artist')['Popularity'].sum().sort_values(ascending=False).head(5).index\n",
        "filtered_df = df4[df4['Artist'].isin(top_5_artists)]\n",
        "\n",
        "most_popular_tracks = filtered_df.loc[filtered_df.groupby('Artist')['Popularity'].idxmax()][['Artist', 'Track Name']]\n",
        "\n",
        "print(\"Most popular tracks for the top 5 artists:\")\n",
        "for index, row in most_popular_tracks.iterrows():\n",
        "  print(f\"Artist: {row['Artist']}, Track: {row['Track Name']}\")\n",
        "\n",
        "\n",
        "'''Output\n",
        "Most popular tracks for the top 5 artists:\n",
        "Artist: 21 Savage, Track: redrum\n",
        "Artist: Drake, Track: Rich Baby Daddy (feat. Sexyy Red & SZA)\n",
        "Artist: Eminem, Track: Without Me\n",
        "Artist: Flo Rida, Track: Low (feat. T-Pain)\n",
        "Artist: ¥$, Track: CARNIVAL'''"
      ],
      "metadata": {
        "id": "9TjHr9jewXLw"
      },
      "execution_count": null,
      "outputs": []
    },
    {
      "cell_type": "code",
      "source": [
        "df4.info()"
      ],
      "metadata": {
        "id": "p4NB92bHxpFh"
      },
      "execution_count": null,
      "outputs": []
    },
    {
      "cell_type": "code",
      "source": [
        "#Q8.Visualize relationships between multiple numerical variables simultaneously using a pair plot?\n",
        "#Ans:\n",
        "\n",
        "numerical_columns = ['Popularity', 'Duration (ms)']\n",
        "plt.Figure(figsize=(12,6))\n",
        "sns.pairplot(df4[numerical_columns])\n",
        "plt.show()"
      ],
      "metadata": {
        "id": "P6jSTfJNxBPW"
      },
      "execution_count": null,
      "outputs": []
    },
    {
      "cell_type": "code",
      "source": [
        "#Q9.Does the duration of tracks vary significantly across different artists? Explore this visually using a box plot or violin plot?\n",
        "#Ans:\n",
        "# box plot\n",
        "plt.figure(figsize=(12, 6))  # Adjust figure size as needed\n",
        "sns.boxplot(x='Artist', y='Duration (ms)', data=df4)\n",
        "plt.title('Track Duration Variation Across Artists (Box Plot)')\n",
        "plt.xlabel('Artist')\n",
        "plt.ylabel('Duration (ms)')\n",
        "plt.xticks(rotation=90, ha='right')  # Rotate x-axis labels for better readability\n",
        "plt.tight_layout()\n",
        "plt.show()\n",
        "\n",
        "\n",
        "# violin plot\n",
        "plt.figure(figsize=(12, 6))  # Adjust figure size as needed\n",
        "sns.violinplot(x='Artist', y='Duration (ms)', data=df4)\n",
        "plt.title('Track Duration Variation Across Artists (Violin Plot)')\n",
        "plt.xlabel('Artist')\n",
        "plt.ylabel('Duration (ms)')\n",
        "plt.xticks(rotation=90, ha='right')\n",
        "plt.tight_layout()\n",
        "plt.show()"
      ],
      "metadata": {
        "id": "bR-GdOAGyLr2"
      },
      "execution_count": null,
      "outputs": []
    },
    {
      "cell_type": "code",
      "source": [
        "#Q10.How does the distribution of track popularity vary for different artists? Visualize this using a swarm plot or a violin plot.\n",
        "#Ans:\n",
        "# swarm plot\n",
        "plt.figure(figsize=(12, 8))\n",
        "sns.swarmplot(x='Artist', y='Popularity', data=df4)\n",
        "plt.title('Distribution of Track Popularity Across Artists (Swarm Plot)')\n",
        "plt.xlabel('Artist')\n",
        "plt.ylabel('Popularity')\n",
        "plt.xticks(rotation=90, ha='right')\n",
        "plt.tight_layout()\n",
        "plt.show()"
      ],
      "metadata": {
        "id": "-T10G-3Uytq5"
      },
      "execution_count": null,
      "outputs": []
    }
  ]
}